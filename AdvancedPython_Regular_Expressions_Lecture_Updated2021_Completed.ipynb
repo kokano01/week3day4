{
 "cells": [
  {
   "cell_type": "markdown",
   "metadata": {},
   "source": [
    "# Regular Expressions"
   ]
  },
  {
   "cell_type": "markdown",
   "metadata": {},
   "source": [
    "# Tasks today:\n",
    "1) <b>Importing</b> <br>\n",
    "2) <b>Using Regular Expressions</b> <br>\n",
    " &nbsp;&nbsp;&nbsp;&nbsp; a) re.compile() <br>\n",
    " &nbsp;&nbsp;&nbsp;&nbsp; b) re.match() <br>\n",
    " &nbsp;&nbsp;&nbsp;&nbsp; c) re.findall() <br>\n",
    " &nbsp;&nbsp;&nbsp;&nbsp; d) re.search() <br>\n",
    "3) <b>Sets</b> <br>\n",
    " &nbsp;&nbsp;&nbsp;&nbsp; a) Integer Ranges <br>\n",
    " &nbsp;&nbsp;&nbsp;&nbsp; b) Character Ranges <br>\n",
    "4) <b>Counting Occurences</b> <br>\n",
    " &nbsp;&nbsp;&nbsp;&nbsp; a) {x} <br>\n",
    " &nbsp;&nbsp;&nbsp;&nbsp; b) {, x} <br>\n",
    " &nbsp;&nbsp;&nbsp;&nbsp; c) {?} <br>\n",
    " &nbsp;&nbsp;&nbsp;&nbsp; d) {*} <br>\n",
    " &nbsp;&nbsp;&nbsp;&nbsp; e) {+} <br>\n",
    "5) <b>In-Class Exercise #1</b> <br>\n",
    "6) <b>Escaping Characters</b> <br>\n",
    "7) <b>Grouping</b> <br>\n",
    "8) <b>In-Class Exercise #2</b> <br>\n",
    "9) <b>Opening a File</b> <br>\n",
    " &nbsp;&nbsp;&nbsp;&nbsp; a) open() <br>\n",
    " &nbsp;&nbsp;&nbsp;&nbsp; b) with open() <br>\n",
    " &nbsp;&nbsp;&nbsp;&nbsp; c) re.match() <br>\n",
    " &nbsp;&nbsp;&nbsp;&nbsp; d) re.search() <br>\n",
    " &nbsp;&nbsp;&nbsp;&nbsp; e) Store the String in a Variable <br>\n",
    "10) <b>Regex Project</b> <br>"
   ]
  },
  {
   "cell_type": "markdown",
   "metadata": {},
   "source": [
    "### Importing <br>\n",
    "<p>Regular Expressions are universal throughout most programming languages... They are generally imported through the module 're'.</p>"
   ]
  },
  {
   "cell_type": "code",
   "execution_count": 4,
   "metadata": {},
   "outputs": [],
   "source": [
    "# import re   re=regular expression\n",
    "import re"
   ]
  },
  {
   "cell_type": "markdown",
   "metadata": {},
   "source": [
    "### Using Regular Expressions <br>\n",
    "<p>Regular expressions give us the ability to search for patterns within text, strings, files, etc. They serve several uses, such as; security measures, searching, filtering, pattern recognition, and more...</p>"
   ]
  },
  {
   "cell_type": "markdown",
   "metadata": {},
   "source": [
    "##### re.compile()"
   ]
  },
  {
   "cell_type": "code",
   "execution_count": 5,
   "metadata": {},
   "outputs": [],
   "source": [
    "# using compile, predetermines the string to be used in regular expression methods\n",
    "pattern = re.compile('abcd')\n",
    "\n",
    "# string u compile is your search code"
   ]
  },
  {
   "cell_type": "markdown",
   "metadata": {},
   "source": [
    "##### re.match()"
   ]
  },
  {
   "cell_type": "code",
   "execution_count": 8,
   "metadata": {},
   "outputs": [
    {
     "name": "stdout",
     "output_type": "stream",
     "text": [
      "<re.Match object; span=(0, 4), match='abcd'>\n",
      "(0, 4)\n"
     ]
    },
    {
     "data": {
      "text/plain": [
       "'abcd'"
      ]
     },
     "execution_count": 8,
     "metadata": {},
     "output_type": "execute_result"
    }
   ],
   "source": [
    "my_match = pattern.match('abcd123')  # abcd from both this and above\n",
    "print(my_match)\n",
    "\n",
    "# Accessing the span of the match\n",
    "my_span = my_match.span()\n",
    "print(my_match.span())\n",
    "'abcd123'[my_span[0]:my_span[1]] # abcd123[from 0: to 4]"
   ]
  },
  {
   "cell_type": "markdown",
   "metadata": {},
   "source": [
    "##### re.findall()"
   ]
  },
  {
   "cell_type": "code",
   "execution_count": 4,
   "metadata": {},
   "outputs": [
    {
     "name": "stdout",
     "output_type": "stream",
     "text": [
      "['abcd', 'abcd', 'abcd']\n"
     ]
    }
   ],
   "source": [
    "finders = pattern.findall('123abcd abcd123 abcd abcabc acb')\n",
    "# REMEMBER: pattern = re.compile('abcd')\n",
    "\n",
    "print(finders)"
   ]
  },
  {
   "cell_type": "markdown",
   "metadata": {},
   "source": [
    "##### re.search()"
   ]
  },
  {
   "cell_type": "code",
   "execution_count": 15,
   "metadata": {},
   "outputs": [
    {
     "name": "stdout",
     "output_type": "stream",
     "text": [
      "<re.Match object; span=(8, 12), match='abcd'>\n",
      "(8, 12)\n",
      "abcd\n"
     ]
    }
   ],
   "source": [
    "random_string = '123 123 abcd abc'\n",
    "my_search = pattern.search(random_string)\n",
    "print(my_search)\n",
    "\n",
    "my_span = my_search.span()\n",
    "print(my_span)\n",
    "\n",
    "print(random_string[my_span[0] : my_span[1]])\n",
    "# print(random_string[12:16])\n",
    "# print(span, type(span))\n",
    "# print(span[0], span[1])\n",
    "# print(random_string[12],random_string[13],random_string[14],random_string[15])"
   ]
  },
  {
   "cell_type": "markdown",
   "metadata": {},
   "source": [
    "###  Character Sets <br>\n",
    "<p>The following cells will allow you to use regular expressions to search for certain values within a range such as numbers 1 through 4.</p>"
   ]
  },
  {
   "cell_type": "markdown",
   "metadata": {},
   "source": [
    "##### [a-z] or [A-Z] - any lowercase/uppercase letters from a to z<br/>[^2] - anything that's not 2"
   ]
  },
  {
   "cell_type": "markdown",
   "metadata": {},
   "source": [
    "##### Integer Ranges"
   ]
  },
  {
   "cell_type": "code",
   "execution_count": 20,
   "metadata": {},
   "outputs": [
    {
     "name": "stdout",
     "output_type": "stream",
     "text": [
      "<re.Match object; span=(0, 3), match='673'>\n",
      "(0, 3)\n",
      "673\n",
      "['673', '383']\n"
     ]
    }
   ],
   "source": [
    "pattern_int = re.compile('[0-7][7-9][0-3]')\n",
    "\n",
    "# find random numbers that meet the 0-7;7-9;0-3 pattern that are\n",
    "# directly next to eachother\n",
    "random_nums = '673383'\n",
    "my_num = pattern_int.search(random_nums)\n",
    "print(my_num)\n",
    "my_span = my_num.span()\n",
    "print(my_span)\n",
    "\n",
    "print(random_nums[my_span[0]:my_span[1]])\n",
    "\n",
    "print(pattern_int.findall(random_nums))\n",
    "\n",
    "# find_randoms = pattern_int.findall('673772')\n",
    "# print(find_randoms)\n",
    "# print(find_randoms[0])"
   ]
  },
  {
   "cell_type": "markdown",
   "metadata": {},
   "source": [
    "##### Character Ranges"
   ]
  },
  {
   "cell_type": "code",
   "execution_count": 25,
   "metadata": {},
   "outputs": [
    {
     "name": "stdout",
     "output_type": "stream",
     "text": [
      "['He', 'Th', 'Mr', 'An']\n"
     ]
    }
   ],
   "source": [
    "char_pattern = re.compile('[A-Z][a-z]')\n",
    "\n",
    "# Search through a string that has an uppercase letter and lowercase letter\n",
    "# directly next to each other\n",
    "\n",
    "found = char_pattern.findall('Hello There Mr.Anderson')\n",
    "print(found)"
   ]
  },
  {
   "cell_type": "markdown",
   "metadata": {},
   "source": [
    "### Counting Occurences"
   ]
  },
  {
   "cell_type": "markdown",
   "metadata": {},
   "source": [
    "##### {x} - something that occurs {num_of_times}"
   ]
  },
  {
   "cell_type": "code",
   "execution_count": 27,
   "metadata": {},
   "outputs": [
    {
     "name": "stdout",
     "output_type": "stream",
     "text": [
      "['An12']\n"
     ]
    }
   ],
   "source": [
    "char_pattern_count = re.compile('[A-Z][a-z][0-3]{2}')\n",
    "\n",
    "found_count = char_pattern_count.findall('Hello Mr. An12derson')\n",
    "print(found_count)"
   ]
  },
  {
   "cell_type": "markdown",
   "metadata": {},
   "source": [
    "##### {x, x} - something that occurs between x and x times"
   ]
  },
  {
   "cell_type": "code",
   "execution_count": 29,
   "metadata": {},
   "outputs": [
    {
     "name": "stdout",
     "output_type": "stream",
     "text": [
      "['m', 'm', 'm', 'mmm', 'mmmmm']\n"
     ]
    }
   ],
   "source": [
    "random_pattern = re.compile('m{1,5}')\n",
    "random_statement = random_pattern.findall(\"This is an example of a regular\\\n",
    "                                          expression trying to find one m,\\\n",
    "                                          more than one mmm or five mmmmm's\")\n",
    "print(random_statement)"
   ]
  },
  {
   "cell_type": "markdown",
   "metadata": {},
   "source": [
    "##### ? - something that occurs 0 or 1 time"
   ]
  },
  {
   "cell_type": "code",
   "execution_count": 34,
   "metadata": {},
   "outputs": [
    {
     "name": "stdout",
     "output_type": "stream",
     "text": [
      "['Mr', 'Mrs']\n"
     ]
    }
   ],
   "source": [
    "pattern = re.compile('Mrs?')\n",
    "\n",
    "found_pat = pattern.findall('Hello M there Mr.Anderson, Mid how is Mrss.Anderson')\n",
    "print(found_pat)"
   ]
  },
  {
   "cell_type": "markdown",
   "metadata": {},
   "source": [
    "##### * - something that occurs at least 0 times"
   ]
  },
  {
   "cell_type": "code",
   "execution_count": 43,
   "metadata": {},
   "outputs": [
    {
     "name": "stdout",
     "output_type": "stream",
     "text": [
      "['Mr', 'Mrsss']\n"
     ]
    }
   ],
   "source": [
    "# pattern_m = re.compile('M*s')\n",
    "\n",
    "# found_m = pattern_m.findall('MMMs name is Ms.Smith. This is Mssssss')\n",
    "# test = [\"MMMs\"]\n",
    "# found_test = pattern_m.findall(test[0])\n",
    "# print(found_test)\n",
    "# print(found_m)\n",
    "\n",
    "pattern = re.compile('Mrs*')\n",
    "\n",
    "found_pat = pattern.findall('Hello M there Mr.Anderson, Mid how is Mrsss.Anderson')\n",
    "print(found_pat)"
   ]
  },
  {
   "cell_type": "markdown",
   "metadata": {},
   "source": [
    "##### + - something that occurs at least once"
   ]
  },
  {
   "cell_type": "code",
   "execution_count": 95,
   "metadata": {},
   "outputs": [
    {
     "name": "stdout",
     "output_type": "stream",
     "text": [
      "['Mrsssss']\n"
     ]
    }
   ],
   "source": [
    "# pattern_again = re.compile('M+s')\n",
    "\n",
    "# found_patt = pattern_again.findall('My name is Ms.Smith. This is MMMMMMsssss')\n",
    "# print(found_patt)\n",
    "\n",
    "\n",
    "\n",
    "# NEEDS AT LEAT ONCE IN ORDER FOR THIS TO WORK\n",
    "pattern = re.compile('Mrs+')\n",
    "\n",
    "found_pat = pattern.findall('Hello M there Mr.Anderson, Mid how is Mrsssss.Anderson')\n",
    "print(found_pat)"
   ]
  },
  {
   "cell_type": "markdown",
   "metadata": {},
   "source": [
    "##### In-class exercise 1: \n",
    "\n",
    "Use a regular expression to find every number in the given string"
   ]
  },
  {
   "cell_type": "code",
   "execution_count": 46,
   "metadata": {},
   "outputs": [
    {
     "name": "stdout",
     "output_type": "stream",
     "text": [
      "['10909090', '1', '2']\n"
     ]
    }
   ],
   "source": [
    "my_string = \"This string has 10909090 numbers, but it is only 1 string. I hope you solve this 2day.\"\n",
    "\n",
    "# Output: ['10909090','1',2]\n",
    "\n",
    "char_pattern = re.compile('[0-9]+')\n",
    "\n",
    "\n",
    "found = char_pattern.findall(my_string)\n",
    "print(found)\n"
   ]
  },
  {
   "cell_type": "markdown",
   "metadata": {},
   "source": [
    "### Escaping Characters"
   ]
  },
  {
   "cell_type": "markdown",
   "metadata": {},
   "source": [
    "##### \\w - look for any Unicode character<br/>\\W - look for anything that isnt a Unicode character\n",
    "\n",
    "[History on Unicode](http://unicode.org/standard/WhatIsUnicode.html)\n",
    "\n",
    "[More on Unicode Characters](https://en.wikipedia.org/wiki/List_of_Unicode_characters)"
   ]
  },
  {
   "cell_type": "code",
   "execution_count": 44,
   "metadata": {},
   "outputs": [
    {
     "name": "stdout",
     "output_type": "stream",
     "text": [
      "['This', 'is', 'a', 'sentance', 'With', 'an', 'exclamation', 'mark', 'at', 'the', 'end']\n",
      "[' ', ' ', ' ', '. ', ' ', ', ', ' ', ' ', ' ', ' ', '!']\n"
     ]
    }
   ],
   "source": [
    "pattern_1 = re.compile('[\\w]+') # Find characters that add up to words\n",
    "pattern_2 = re.compile('[\\W]+') # Find characters that are not words\n",
    "pattern_3 = re.compile('[\\w]')\n",
    "pattern_4 = re.compile('[\\W]')\n",
    "found_1 = pattern_1.findall(\"This is a sentance. With an, exclamation mark at the end!\")\n",
    "print(found_1)\n",
    "found_2 = pattern_2.findall(\"This is a sentance. With an, exclamation mark at the end!\")\n",
    "print(found_2)\n",
    "\n",
    "\n",
    "# found_3 = pattern_3.findall(\"This is a sentance. With an, exclamation mark at the end!\")\n",
    "# print(found_3)\n",
    "\n",
    "# found_4 = pattern_4.findall(\"This is a sentance. With an, exclamation mark at the end!\")\n",
    "# print(found_4)"
   ]
  },
  {
   "cell_type": "markdown",
   "metadata": {},
   "source": [
    "##### \\d - look for any digit 0-9<br/>\\D - look for anything that isnt a digit"
   ]
  },
  {
   "cell_type": "code",
   "execution_count": 58,
   "metadata": {},
   "outputs": [
    {
     "name": "stdout",
     "output_type": "stream",
     "text": [
      "['Today is July 29', ' 2021', ' and in 14 days it will be my birthday', ' August 12 is my birthday']\n",
      "['Today is July ', ', ', ', and in ', ' days it will be my birthday. August ', ' is my birthday']\n"
     ]
    }
   ],
   "source": [
    "# '[0-9]+' is equivalent to '\\d+' \n",
    "\n",
    "pat3 = re.compile('[\\d \\w]+')\n",
    "pat4 = re.compile('\\D+')\n",
    "\n",
    "my_sentence2 = \"Today is July 29, 2021, and in 14 days it will be my birthday. August 12 is my birthday\"\n",
    "\n",
    "found3 = pat3.findall(my_sentence2)\n",
    "print(found3)\n",
    "\n",
    "found4 = pat4.findall(my_sentence2)\n",
    "print(found4)\n",
    "\n",
    "\n",
    "# pattern_nums = re.compile('\\d{1,2}[\\w]{2}')\n",
    "\n",
    "# found_date = pattern_nums.findall(\"Today is the 7th, in 20days it will be the 27th. 3rd,1st,30th\")\n",
    "# print(found_date)\n",
    "\n"
   ]
  },
  {
   "cell_type": "markdown",
   "metadata": {},
   "source": [
    "##### \\s - look for any white space<br/>\\S - look for anything that isnt whitespace"
   ]
  },
  {
   "cell_type": "code",
   "execution_count": 60,
   "metadata": {},
   "outputs": [
    {
     "name": "stdout",
     "output_type": "stream",
     "text": [
      "[' ', ' ', '          ', ' ', ' ']\n",
      "['Are', 'you', 'afraid', 'of', 'the', 'dark?']\n"
     ]
    }
   ],
   "source": [
    "pat5 = re.compile('\\s+')\n",
    "pat6 = re.compile('\\S+')\n",
    "\n",
    "found_space = pat5.findall(\"Are you afraid          of the dark?\")\n",
    "print(found_space)\n",
    "\n",
    "found_no_space = pat6.findall(\"Are \\nyou afraid \\t       of the dark?\")\n",
    "print(found_no_space)\n",
    "\n",
    "# pattern_no_space = re.compile('\\S')\n",
    "# pattern_space = re.compile('\\s+')\n",
    "\n",
    "# found_dark = pattern_no_space.findall('Are you afraid of the dark?')\n",
    "# print(found_dark)\n",
    "\n",
    "# found_space = pattern_space.findall('Are you afraid of the dark?')\n",
    "# print(found_space)"
   ]
  },
  {
   "cell_type": "markdown",
   "metadata": {},
   "source": [
    "##### \\b - look for boundaries or edges of a word<br/>\\B - look for anything that isnt a boundary"
   ]
  },
  {
   "cell_type": "code",
   "execution_count": 64,
   "metadata": {},
   "outputs": [
    {
     "name": "stdout",
     "output_type": "stream",
     "text": [
      "['Koki']\n",
      "['Koki']\n"
     ]
    }
   ],
   "source": [
    "#HARD TO FIND A USE FOR THIS\n",
    "\n",
    "pat7 = re.compile(r'\\bKoki\\b')   # raw string (r)\n",
    "pat8 = re.compile(r'\\BKoki\\B')\n",
    "\n",
    "found7 = pat7.findall(' Koki ')\n",
    "print(found7)\n",
    "\n",
    "found8 = pat8.findall('asdKokiasd')\n",
    "print(found8)\n",
    "\n",
    "\n",
    "# pattern_bound = re.compile(r'\\bTheCodingSummit\\b')\n",
    "# pattern_bound_none = re.compile('\\BTheCodingSummit\\B')\n",
    "\n",
    "# found_bound = pattern_bound.findall(\"TheCodingSummit\")\n",
    "# print(found_bound)\n",
    "\n",
    "# no_found_bound = pattern_bound_none.findall(\"fgTheCodingSummitdsf\")\n",
    "# print(no_found_bound)"
   ]
  },
  {
   "cell_type": "markdown",
   "metadata": {},
   "source": [
    "### Grouping"
   ]
  },
  {
   "cell_type": "code",
   "execution_count": 73,
   "metadata": {
    "scrolled": true
   },
   "outputs": [
    {
     "name": "stdout",
     "output_type": "stream",
     "text": [
      "[('Max', 'Smith'), ('Sam', 'Darnold'), ('LeBron', 'James'), ('Michael', 'Jordan'), ('Kevin', 'Durant'), ('Patrick', 'McCormick')]\n",
      "Max, Smith\n",
      "Not a name\n",
      "Sam, Darnold\n",
      "Michael, Jordan\n",
      "Kevin, Durant\n",
      "Patrick, McCormick\n"
     ]
    }
   ],
   "source": [
    "my_string_again = \"Max Smith, aaron rodgers, Sam Darnold,LeBron James, Michael Jordan, Kevin Durant, Patrick McCormick\"\n",
    "\n",
    "# Group of names regular expression compiler\n",
    "pattern_name = re.compile('(?P<first>[A-Z][A-Za-z]+) (?P<last>[A-Z][A-Za-z]+)')   # ?P<insert_groupname>\n",
    "\n",
    "found_names = pattern_name.findall(my_string_again)\n",
    "print(found_names)\n",
    "\n",
    "# looping over the entire list to get tuples by themselves\n",
    "for name in my_string_again.split(', '):\n",
    "    match = pattern_name.search(name)\n",
    "    \n",
    "    if match:\n",
    "#         print(match.group(\"first\") + ', ' + match.group(\"last\"))\n",
    "        print(f'{match.group(\"first\")}, {match.group(\"last\")}')\n",
    "    else:\n",
    "        print(\"Not a name\")"
   ]
  },
  {
   "cell_type": "markdown",
   "metadata": {},
   "source": [
    "##### In-class Exercise 2:\n",
    "\n",
    "Write a function using regular expressions to find the domain name in the given email addresses (and return None for the invalid email addresses)<br><b>HINT: Use '|' for either or</b>"
   ]
  },
  {
   "cell_type": "code",
   "execution_count": 83,
   "metadata": {
    "scrolled": true
   },
   "outputs": [
    {
     "name": "stdout",
     "output_type": "stream",
     "text": [
      "None\n",
      "pocohontas1776@gmail.com\n",
      "None\n",
      "yourfavoriteband@g6.org\n",
      "None\n"
     ]
    }
   ],
   "source": [
    "my_emails = [\"shohat@codingcodingsummit.orgcom\", \"pocohontas1776@gmail.com\", \"helloworld@aol..com\",\n",
    "             \"yourfavoriteband@g6.org\", \"@codingsummit.com\"]\n",
    "\n",
    "# You can also use the $ at the end of your compile expression -- this stops the search\n",
    "\n",
    "#.com OR .org => com|org\n",
    "\n",
    "def validateEmail(email):\n",
    "    pattern = re.compile('(?P<username>[A-Za-z0-9]+)@(?P<domain>[A-Za-z0-9]+).(?P<ending>com|org)$')\n",
    "    \n",
    "    if pattern.match(email):\n",
    "        return email\n",
    "    else:\n",
    "        return None\n",
    "\n",
    "\n",
    "for email in my_emails:\n",
    "    print(validateEmail(email))\n",
    "\n",
    "    \n",
    "#Expected output:\n",
    "#None\n",
    "#pocohontas1776@gmail.com\n",
    "#None\n",
    "#yourfavoriteband@g6.org\n",
    "#None\n",
    "\n",
    "# domains = re.compile('\\S[a-z0-9@com|org]+')\n",
    "\n",
    "# find_domains = domains.findall(my_emails[0])\n",
    "\n",
    "# for name in my_emails:\n",
    "#     name = domains.search(name)\n",
    "#     if name:\n",
    "#         print(find_domains)\n",
    "#     else:\n",
    "#         print(\"None\")\n",
    "\n",
    "# def validateEmail(email):\n",
    "#     pattern = re.compile(\"([A-Za-z0-9]+)@([A-Za-z0-9]+).(org|com)$\")\n",
    "    \n",
    "#     if pattern.match(email):\n",
    "#         return email\n",
    "#     else:\n",
    "#         return None\n",
    "    \n",
    "# for email in my_emails:\n",
    "#     print(validateEmail(email))\n",
    "\n",
    "\n"
   ]
  },
  {
   "cell_type": "markdown",
   "metadata": {},
   "source": [
    "### Opening a File <br>\n",
    "<p>Python gives us a couple ways to import files, below are the two used most often.</p>"
   ]
  },
  {
   "cell_type": "markdown",
   "metadata": {},
   "source": [
    "##### open()"
   ]
  },
  {
   "cell_type": "code",
   "execution_count": 84,
   "metadata": {},
   "outputs": [
    {
     "name": "stdout",
     "output_type": "stream",
     "text": [
      "Tsuchida, Shoha\tshoha@codingsummit.org\t(555) 555-5555\tTeacher, Coding Summit\t@shoha-tsuchida\n",
      "Wang, Ivan\tivan@codingsummit.org\t(555) 555-5554\tTeacher, Coding Summit\n",
      "Le, Daniel\tdaniel@codingsummit.org\t\tDaniel,\t\t@le\n",
      "Osterberg, Sven-Erik\tgovernor@norrbotten.co.se\t\tGovernor, Norrbotten\t@sverik\n",
      ", Tim\ttim@killerrabbit.com\t\tEnchanter, Killer Rabbit Cave\n",
      "T, Shinha\tst@codingsummit.org\t(555) 555-5543\tCEO, Coding Summit\t@shinha\n",
      "Doctor, The\tdoctor+companion@tardis.co.uk\t\tTime Lord, Gallifrey\n",
      "Exampleson, Example\tme@example.com\t555-555-5552\tExample, Example Co.\t@example\n",
      "Okano, Shokou\tshokou@codingsummit.org\t(555) 555-5553\tMarketing, Coding Summit\t@sho\n",
      "Vader, Darth\tdarth-vader@empire.gov\t(555) 555-4444\tSith Lord, Galactic Empire\t@darthvader\n",
      "Fernandez de la Vega Sanz, Maria Teresa\tmtfvs@spain.gov\t\tFirst Deputy Prime Minister, Spanish Gov\n",
      "\n"
     ]
    }
   ],
   "source": [
    "file = open(\"files/names.txt\")\n",
    "\n",
    "data = file.read()\n",
    "\n",
    "print(data)\n",
    "\n",
    "file.close()"
   ]
  },
  {
   "cell_type": "code",
   "execution_count": 21,
   "metadata": {},
   "outputs": [],
   "source": [
    "# file.read()"
   ]
  },
  {
   "cell_type": "markdown",
   "metadata": {},
   "source": [
    "##### with open()"
   ]
  },
  {
   "cell_type": "code",
   "execution_count": 2,
   "metadata": {},
   "outputs": [
    {
     "name": "stdout",
     "output_type": "stream",
     "text": [
      "Tsuchida, Shoha\tshoha@codingsummit.org\t(555) 555-5555\tTeacher, Coding Summit\t@shoha-tsuchida\n",
      "Wang, Ivan\tivan@codingsummit.org\t(555) 555-5554\tTeacher, Coding Summit\n",
      "Le, Daniel\tdaniel@codingsummit.org\t\tDaniel,\t\t@le\n",
      "Osterberg, Sven-Erik\tgovernor@norrbotten.co.se\t\tGovernor, Norrbotten\t@sverik\n",
      ", Tim\ttim@killerrabbit.com\t\tEnchanter, Killer Rabbit Cave\n",
      "T, Shinha\tst@codingsummit.org\t(555) 555-5543\tCEO, Coding Summit\t@shinha\n",
      "Doctor, The\tdoctor+companion@tardis.co.uk\t\tTime Lord, Gallifrey\n",
      "Exampleson, Example\tme@example.com\t555-555-5552\tExample, Example Co.\t@example\n",
      "Okano, Shokou\tshokou@codingsummit.org\t(555) 555-5553\tMarketing, Coding Summit\t@sho\n",
      "Vader, Darth\tdarth-vader@empire.gov\t(555) 555-4444\tSith Lord, Galactic Empire\t@darthvader\n",
      "Fernandez de la Vega Sanz, Maria Teresa\tmtfvs@spain.gov\t\tFirst Deputy Prime Minister, Spanish Gov\n",
      "\n"
     ]
    }
   ],
   "source": [
    "with open('files/names.txt') as file:\n",
    "    data = file.read()\n",
    "    print(data)\n",
    "    "
   ]
  },
  {
   "cell_type": "code",
   "execution_count": 23,
   "metadata": {},
   "outputs": [],
   "source": [
    "# file.read()"
   ]
  },
  {
   "cell_type": "markdown",
   "metadata": {},
   "source": [
    "##### re.match()"
   ]
  },
  {
   "cell_type": "code",
   "execution_count": 13,
   "metadata": {},
   "outputs": [
    {
     "name": "stdout",
     "output_type": "stream",
     "text": [
      "<re.Match object; span=(0, 15), match='Tsuchida, Shoha'>\n",
      "Tsuchida, Shoha\n"
     ]
    }
   ],
   "source": [
    "#first way we learned\n",
    "#pattern = re.compile('Tsuchida, Shoha')\n",
    "# match = pattern.match(data)\n",
    "# print(match)\n",
    "\n",
    "#calling re.match directly\n",
    "#re.match('pattern', 'string we are searching through')\n",
    "print(re.match(r\"Tsuchida, Shoha\", data))\n",
    "print(data[0:15])"
   ]
  },
  {
   "cell_type": "markdown",
   "metadata": {},
   "source": [
    "##### re.search()"
   ]
  },
  {
   "cell_type": "code",
   "execution_count": 86,
   "metadata": {},
   "outputs": [
    {
     "name": "stdout",
     "output_type": "stream",
     "text": [
      "<re.Match object; span=(658, 680), match='darth-vader@empire.gov'>\n",
      "darth-vader@empire.gov\n"
     ]
    }
   ],
   "source": [
    "#same thing as above\n",
    "#re.match('pattern', 'string we are searching through')\n",
    "\n",
    "print(re.search(r\"darth-vader@empire.gov\", data))\n",
    "print(data[658:680])"
   ]
  },
  {
   "cell_type": "markdown",
   "metadata": {},
   "source": [
    "##### Store the String to a Variable"
   ]
  },
  {
   "cell_type": "code",
   "execution_count": 88,
   "metadata": {},
   "outputs": [
    {
     "name": "stdout",
     "output_type": "stream",
     "text": [
      "What would you like to search for?...fernandez\n",
      "Could not find it...\n"
     ]
    }
   ],
   "source": [
    "answer = input(\"What would you like to search for?...\")\n",
    "\n",
    "found = re.findall(answer,data)\n",
    "\n",
    "if found:\n",
    "    print(f\"I found you data: {found}\")\n",
    "else:\n",
    "    print(\"Could not find it...\")"
   ]
  },
  {
   "cell_type": "markdown",
   "metadata": {},
   "source": [
    "### In-Class Exercise #3 <br>\n",
    "<p>Print each persons name and twitter handle, using groups, should look like:</p>\n",
    "<p>==============<br>\n",
    "   Full Name / Twitter<br>\n",
    "   ==============</p>\n",
    "Shoha Tsuchida / @shoha-tsuchida\n",
    "\n",
    "Daniel Le / @le\n",
    "\n",
    " Erik Sven-Osterberg / @sverik\n",
    "\n",
    " Shinha T / @shinha\n",
    "\n",
    " Example Exampleson / @example\n",
    "\n",
    " Shokou Okano / @sho\n",
    "\n",
    " Darth Vader / @darthvader"
   ]
  },
  {
   "cell_type": "code",
   "execution_count": 8,
   "metadata": {},
   "outputs": [
    {
     "name": "stdout",
     "output_type": "stream",
     "text": [
      "Tsuchida, Shoha\tshoha@codingsummit.org\t(555) 555-5555\tTeacher, Coding Summit\t@shoha-tsuchida\n",
      "Wang, Ivan\tivan@codingsummit.org\t(555) 555-5554\tTeacher, Coding Summit\n",
      "Le, Daniel\tdaniel@codingsummit.org\t\tDaniel,\t\t@le\n",
      "Osterberg, Sven-Erik\tgovernor@norrbotten.co.se\t\tGovernor, Norrbotten\t@sverik\n",
      ", Tim\ttim@killerrabbit.com\t\tEnchanter, Killer Rabbit Cave\n",
      "T, Shinha\tst@codingsummit.org\t(555) 555-5543\tCEO, Coding Summit\t@shinha\n",
      "Doctor, The\tdoctor+companion@tardis.co.uk\t\tTime Lord, Gallifrey\n",
      "Exampleson, Example\tme@example.com\t555-555-5552\tExample, Example Co.\t@example\n",
      "Okano, Shokou\tshokou@codingsummit.org\t(555) 555-5553\tMarketing, Coding Summit\t@sho\n",
      "Vader, Darth\tdarth-vader@empire.gov\t(555) 555-4444\tSith Lord, Galactic Empire\t@darthvader\n",
      "Fernandez de la Vega Sanz, Maria Teresa\tmtfvs@spain.gov\t\tFirst Deputy Prime Minister, Spanish Gov\n",
      "\n"
     ]
    }
   ],
   "source": [
    "print(data)\n",
    "pattern = re.compile('(?P<fullname>[\\w\\- ]*,[\\w \\-]+)\\t(?P<email>[\\w\\+\\-]+@[\\w]+.[a-z.]+)\\t(?P<phone>\\(?[0-9]{3}\\)?[ \\-][0-9]{3}-[\\d]{4})?\\t(?P<position>[\\w ]+,\\s[\\w. ]*\\s)(?P<twitter>@[\\w\\-]+)? ')\n",
    "found = pattern.finditer(data)\n",
    "for line in found:\n",
    "    if line.group(\"twitter\"):\n",
    "        print(f\"{line.group('fullname').split(', ')[1]} {line.group('fullname').split(', ')[0]} / {line.group('twitter')}\")\n"
   ]
  },
  {
   "cell_type": "code",
   "execution_count": 99,
   "metadata": {},
   "outputs": [
    {
     "data": {
      "text/plain": [
       "<re.Match object; span=(0, 12), match='555-555-5552'>"
      ]
     },
     "execution_count": 99,
     "metadata": {},
     "output_type": "execute_result"
    }
   ],
   "source": [
    "p1 = '(555) 555-5555'\n",
    "p2 = '555-555-5552'\n",
    "pattern = re.compile('\\(?[0-9]{3}\\)?[ \\-][0-9]{3}-[\\d]{4}')\n",
    "pattern.match(p2)"
   ]
  },
  {
   "cell_type": "code",
   "execution_count": 89,
   "metadata": {
    "scrolled": false
   },
   "outputs": [
    {
     "name": "stdout",
     "output_type": "stream",
     "text": [
      "Tsuchida, Shoha\tshoha@codingsummit.org\t(555) 555-5555\tTeacher, Coding Summit\t@shoha-tsuchida\n",
      "Wang, Ivan\tivan@codingsummit.org\t(555) 555-5554\tTeacher, Coding Summit\n",
      "Le, Daniel\tdaniel@codingsummit.org\t\tDaniel,\t\t@le\n",
      "Osterberg, Sven-Erik\tgovernor@norrbotten.co.se\t\tGovernor, Norrbotten\t@sverik\n",
      ", Tim\ttim@killerrabbit.com\t\tEnchanter, Killer Rabbit Cave\n",
      "T, Shinha\tst@codingsummit.org\t(555) 555-5543\tCEO, Coding Summit\t@shinha\n",
      "Doctor, The\tdoctor+companion@tardis.co.uk\t\tTime Lord, Gallifrey\n",
      "Exampleson, Example\tme@example.com\t555-555-5552\tExample, Example Co.\t@example\n",
      "Okano, Shokou\tshokou@codingsummit.org\t(555) 555-5553\tMarketing, Coding Summit\t@sho\n",
      "Vader, Darth\tdarth-vader@empire.gov\t(555) 555-4444\tSith Lord, Galactic Empire\t@darthvader\n",
      "Fernandez de la Vega Sanz, Maria Teresa\tmtfvs@spain.gov\t\tFirst Deputy Prime Minister, Spanish Gov\n",
      "\n",
      "('Tsuchida, Shoha', 'shoha@codingsummit.org\\t(555) 555-5555\\tTeacher, Coding Summit\\t', '@shoha-tsuchida')\n",
      "('Wang, Ivan', 'ivan@codingsummit.org\\t(555) 555-5554\\tTeacher, Coding Summit', '')\n",
      "('Le, Daniel', 'daniel@codingsummit.org\\t\\tDaniel,\\t\\t', '@le')\n",
      "('Osterberg, Sven-Erik', 'governor@norrbotten.co.se\\t\\tGovernor, Norrbotten\\t', '@sverik')\n",
      "(', Tim', 'tim@killerrabbit.com\\t\\tEnchanter, Killer Rabbit Cave', '')\n",
      "('T, Shinha', 'st@codingsummit.org\\t(555) 555-5543\\tCEO, Coding Summit\\t', '@shinha')\n",
      "('Doctor, The', 'doctor+companion@tardis.co.uk\\t\\tTime Lord, Gallifrey', '')\n",
      "('Exampleson, Example', 'me@example.com\\t555-555-5552\\tExample, Example Co.\\t', '@example')\n",
      "('Okano, Shokou', 'shokou@codingsummit.org\\t(555) 555-5553\\tMarketing, Coding Summit\\t', '@sho')\n",
      "('Vader, Darth', 'darth-vader@empire.gov\\t(555) 555-4444\\tSith Lord, Galactic Empire\\t', '@darthvader')\n",
      "('Fernandez de la Vega Sanz, Maria Teresa', 'mtfvs@spain.gov\\t\\tFirst Deputy Prime Minister, Spanish Gov', '')\n",
      "\n",
      "\n",
      "Shoha Tsuchida / @shoha-tsuchida\n",
      "Daniel Le / @le\n",
      "Sven-Erik Osterberg / @sverik\n",
      "Shinha T / @shinha\n",
      "Example Exampleson / @example\n",
      "Shokou Okano / @sho\n",
      "Darth Vader / @darthvader\n"
     ]
    }
   ],
   "source": [
    "with open(\"files/names.txt\") as file:\n",
    "    data = file.read()\n",
    "    print(data) # indexes fall between 0 - 10\n",
    "    file.close()\n",
    "    \n",
    "regex=re.compile('(?P<fullname>[\\w ]*, [\\w -]*)\\t(?P<optional>[.\\+\\-\\w\\d]+@[-,.\\w\\d\\s\\(\\)]+)?(?P<twitter>@[\\w\\d-]+)?\\n')\n",
    "\n",
    "for found in regex.findall(data):\n",
    "    print(found)\n",
    "\n",
    "print('\\n')    \n",
    "    \n",
    "for found in regex.finditer(data):\n",
    "    if found.group(\"twitter\"):\n",
    "        print(f'{found.group(\"fullname\").split(\", \")[1]} {found.group(\"fullname\").split(\", \")[0]} / {found.group(\"twitter\")}')\n",
    "    \n",
    "    \n",
    "# re.finditer() returns match objects"
   ]
  },
  {
   "cell_type": "markdown",
   "metadata": {},
   "source": [
    "### Regex question\n",
    "\n",
    "Use python to read the file regex_test.txt and print the last name on each line using regular expressions and groups (return None for names with no first and last name, or names that aren't properly capitalized)\n",
    "##### Hint: use with open() and readlines()"
   ]
  },
  {
   "cell_type": "code",
   "execution_count": 28,
   "metadata": {},
   "outputs": [
    {
     "data": {
      "text/plain": [
       "'\\nExpected Output\\nAbraham Lincoln\\nAndrew P Garfield\\nConnor Milliken\\nJordan Alexander Williams\\nNone\\nNone\\n'"
      ]
     },
     "execution_count": 28,
     "metadata": {},
     "output_type": "execute_result"
    }
   ],
   "source": [
    "\"\"\"\n",
    "Expected Output\n",
    "Abraham Lincoln\n",
    "Andrew P Garfield\n",
    "Connor Milliken\n",
    "Jordan Alexander Williams\n",
    "None\n",
    "None\n",
    "\"\"\""
   ]
  },
  {
   "cell_type": "code",
   "execution_count": 15,
   "metadata": {},
   "outputs": [
    {
     "name": "stdout",
     "output_type": "stream",
     "text": [
      "['Abraham Lincoln\\n', 'Andrew P Garfield\\n', 'Connor Milliken\\n', 'Jordan Alexander Williams\\n', 'Madonna\\n', 'programming is cool\\n']\n"
     ]
    }
   ],
   "source": [
    "f = open(\"files/regex_test.txt\", \"r\")\n",
    "\n",
    "print(f.readlines())\n"
   ]
  },
  {
   "cell_type": "code",
   "execution_count": 91,
   "metadata": {},
   "outputs": [
    {
     "name": "stdout",
     "output_type": "stream",
     "text": [
      "['Abraham Lincoln\\n', 'Andrew P Garfield\\n', 'Connor Milliken\\n', 'Jordan Alexander Williams\\n', 'Madonna\\n', 'programming is cool\\n']\n",
      "Abraham Lincoln\n",
      "\n",
      "Andrew P Garfield\n",
      "\n",
      "Connor Milliken\n",
      "\n",
      "Jordan Alexander Williams\n",
      "\n",
      "None\n",
      "None\n"
     ]
    }
   ],
   "source": [
    "with open(\"files/regex_test.txt\") as file:\n",
    "    data = file.readlines()\n",
    "\n",
    "\n",
    "def people(names):\n",
    "    pattern = re.compile('(?P<first>[A-Z][A-Za-z ]+)(?P<middle>[A-Z])?(?P<last>[A-Z][A-Za-z]+)')\n",
    "\n",
    "\n",
    "    if pattern.match(names):\n",
    "        return names\n",
    "            \n",
    "        \n",
    "    else:\n",
    "        return None\n",
    "\n",
    "print(data)\n",
    "\n",
    "for names in data:\n",
    "    print(people(names))"
   ]
  }
 ],
 "metadata": {
  "kernelspec": {
   "display_name": "Python 3",
   "language": "python",
   "name": "python3"
  },
  "language_info": {
   "codemirror_mode": {
    "name": "ipython",
    "version": 3
   },
   "file_extension": ".py",
   "mimetype": "text/x-python",
   "name": "python",
   "nbconvert_exporter": "python",
   "pygments_lexer": "ipython3",
   "version": "3.8.8"
  }
 },
 "nbformat": 4,
 "nbformat_minor": 2
}
